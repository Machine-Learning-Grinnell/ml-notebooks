{
 "cells": [
  {
   "cell_type": "markdown",
   "metadata": {},
   "source": [
    "# NumPy Fundamentals"
   ]
  },
  {
   "cell_type": "markdown",
   "metadata": {},
   "source": [
    "## Intro To Numpy"
   ]
  },
  {
   "cell_type": "markdown",
   "metadata": {},
   "source": [
    "If you don't have NumPy installed, `pip install numpy`"
   ]
  },
  {
   "cell_type": "code",
   "execution_count": 3,
   "metadata": {},
   "outputs": [],
   "source": [
    "import numpy as np"
   ]
  },
  {
   "cell_type": "markdown",
   "metadata": {},
   "source": [
    "### Creating NumPy arrays"
   ]
  },
  {
   "cell_type": "code",
   "execution_count": 48,
   "metadata": {},
   "outputs": [],
   "source": [
    "# convert python list to numpy array\n",
    "np1 = np.array([1,2,3,4,5]) # 1,2,3,4,5\n",
    "\n",
    "# np.arange(start, stop, step)\n",
    "np2 = np.arange(5) # 0,1,2,3,4\n",
    "np3 = np.arange(5, 10) # 5,6,7,8,9\n",
    "np4 = np.arange(5, 10, 2) # 5,7,9\n",
    "\n",
    "# np.linspace(start, stop, num)\n",
    "np5 = np.linspace(0, 10, 5) # 0,2.5,5,7.5,10\n",
    "\n",
    "# np.zero and np.ones\n",
    "np6 = np.zeros(5) # 0,0,0,0,0\n",
    "np7 = np.ones(5) # 1,1,1,1,1\n",
    "\n",
    "# np.full(shape, value)\n",
    "np8 = np.full(5, 5) # 5,5,5,5,5\n",
    "np9 = np.full((2,2), 5) # [[5,5],[5,5]]\n",
    "\n",
    "# np.eye\n",
    "np10 = np.eye(5) # 5x5 identity matrix\n",
    "\n",
    "# np.random.rand\n",
    "np11 = np.random.rand(5) # 5 random numbers between 0 and 1\n",
    "\n",
    "# np.random.randint\n",
    "np12 = np.random.randint(1, 10, 5) # 5 random numbers between 1 and 10\n"
   ]
  },
  {
   "cell_type": "markdown",
   "metadata": {},
   "source": [
    "**seeing the shape**"
   ]
  },
  {
   "cell_type": "code",
   "execution_count": 49,
   "metadata": {},
   "outputs": [
    {
     "name": "stdout",
     "output_type": "stream",
     "text": [
      "[[5 5]\n",
      " [5 5]]\n",
      "shape: (2, 2)\n",
      "dimensions: 2\n"
     ]
    }
   ],
   "source": [
    "print(np9)\n",
    "\n",
    "print(f\"shape: {np9.shape}\") # prints the shape of the array\n",
    "print(f\"dimensions: {np9.ndim}\") # prints the number of dimensions of the array"
   ]
  },
  {
   "cell_type": "markdown",
   "metadata": {},
   "source": [
    "**size and byte**"
   ]
  },
  {
   "cell_type": "code",
   "execution_count": 46,
   "metadata": {},
   "outputs": [
    {
     "name": "stdout",
     "output_type": "stream",
     "text": [
      "size: 3\n",
      "size of each item: 8\n",
      "total size of array in bytes: 24\n"
     ]
    }
   ],
   "source": [
    "Z = np.array([1,2,3])\n",
    "\n",
    "print(f\"size: {Z.size}\") # prints the size of the array\n",
    "print(f\"size of each item: {Z.itemsize}\")  # prints the size of the elements in the array\n",
    "print(f\"total size of array in bytes: {Z.nbytes}\") # prints the total size of the array in bytes"
   ]
  },
  {
   "cell_type": "markdown",
   "metadata": {},
   "source": [
    "### Slicing and indexing"
   ]
  },
  {
   "cell_type": "markdown",
   "metadata": {},
   "source": [
    "**SLICING**"
   ]
  },
  {
   "cell_type": "code",
   "execution_count": null,
   "metadata": {},
   "outputs": [],
   "source": [
    "np1 = np.arange(1, 10) # 1,2,3,4,5,6,7,8,9\n",
    "\n",
    "print(np1[1:5]) # 2,3,4,5\n",
    "print(np1[:5]) # 1,2,3,4,5\n",
    "\n",
    "print(np1[::2]) # 1,3,5,7,9\n",
    "print(np1[::]) # 1,2,3,4,5,6,7,8,9\n",
    "print(np1[::-1]) # 9,8,7,6,5,4,3,2,1\n",
    "print(np1[1:-1:-1]) # empty array. If the step is negative, the start and stop should be reversed."
   ]
  },
  {
   "cell_type": "markdown",
   "metadata": {},
   "source": [
    "what if the array is not 1d?"
   ]
  },
  {
   "cell_type": "code",
   "execution_count": null,
   "metadata": {},
   "outputs": [],
   "source": [
    "np2 = np.array([[1,2,3], [4,5,6], [7,8,9]])\n",
    "print(np2[::-1])\n",
    "print(np2[::-1, ::-1])\n",
    "# we can observe that slicing needs to be specified for each dimension\n",
    "# the first position is the 'outermost' dimension, and the last position is the 'innermost' dimension"
   ]
  },
  {
   "cell_type": "markdown",
   "metadata": {},
   "source": [
    "**INDEXING**"
   ]
  },
  {
   "cell_type": "markdown",
   "metadata": {},
   "source": [
    "generally, accessing in single-step `arr[x,y]` is more efficient than doing `arr[x][y]`"
   ]
  },
  {
   "cell_type": "code",
   "execution_count": null,
   "metadata": {},
   "outputs": [],
   "source": [
    "np3 = np.array([[1,2,3], [4,5,6], [7,8,9]])\n",
    "\n",
    "\n",
    "print(np3[1,2])\n",
    "# This is a single-step operation where NumPy directly accesses the specified element using multidimensional indexing\n",
    "\n",
    "print(np3[1][2]) # 6\n",
    "# This is a two-step operation where NumPy first accesses the first dimension and then the second dimension"
   ]
  },
  {
   "cell_type": "markdown",
   "metadata": {},
   "source": [
    "**Integer Array Indexing**"
   ]
  },
  {
   "cell_type": "code",
   "execution_count": 43,
   "metadata": {},
   "outputs": [
    {
     "name": "stdout",
     "output_type": "stream",
     "text": [
      "[2 4 5]\n",
      "[2 4 5]\n"
     ]
    }
   ],
   "source": [
    "np1 = np.arange(1, 10) # 1,2,3,4,5,6,7,8,9\n",
    "indices = np.array([1, 3, 4])\n",
    "print(np1[indices])\n",
    "\n",
    "# or you can just use list directly\n",
    "print(np1[[1, 3, 4]])"
   ]
  },
  {
   "cell_type": "markdown",
   "metadata": {},
   "source": [
    "**[EXTRA] boolean indexing**"
   ]
  },
  {
   "cell_type": "code",
   "execution_count": 32,
   "metadata": {},
   "outputs": [
    {
     "name": "stdout",
     "output_type": "stream",
     "text": [
      "[False False  True  True  True]\n",
      "[3 4 5]\n",
      "[3 4 5]\n"
     ]
    }
   ],
   "source": [
    "\n",
    "a = np.array([1, 2, 3, 4, 5])\n",
    "# Create a boolean array where True represents values greater than 2\n",
    "bool_idx = a > 2\n",
    "\n",
    "print(bool_idx)\n",
    "# Output: [False False  True  True  True]\n",
    "\n",
    "# Use this boolean array to index the original array\n",
    "print(a[bool_idx])\n",
    "# Output: [3 4 5]\n",
    "\n",
    "# Or directly\n",
    "print(a[a > 2])\n",
    "# Output: [3 4 5]"
   ]
  },
  {
   "cell_type": "markdown",
   "metadata": {},
   "source": [
    "**[EXTRA]** There are more advanced slicing/indexing techniques such as:   \n",
    "- Fancy indexing  \n",
    "- Ellipsis and np.newaxis  \n"
   ]
  },
  {
   "cell_type": "markdown",
   "metadata": {},
   "source": [
    "### NumPy Universal Functions"
   ]
  },
  {
   "cell_type": "markdown",
   "metadata": {},
   "source": [
    "**Universal Functions** are functions that operate element-wise on an ndarray  \n",
    "\n",
    "Check [NumPy ufunc documentation](https://numpy.org/doc/stable/reference/ufuncs.html) for more!"
   ]
  },
  {
   "cell_type": "markdown",
   "metadata": {},
   "source": [
    "Arithmetic Operations\n",
    "\n",
    "- **np.add(x, y):** Adds corresponding elements in arrays x and y.\n",
    "- **np.subtract(x, y):** Subtracts elements of y from x.\n",
    "- **np.multiply(x, y):** Multiplies elements of x by elements of y.\n",
    "- **np.divide(x, y):** Divides elements of x by elements of y.\n",
    "- **np.sqrt(x):** Returns the non-negative square-root of an array, element-wise.\n",
    "- **np.matmul(x, y):** Matrix Multiplication (Linear algebra)\n",
    "\n",
    "Trigonometric Functions\n",
    "\n",
    "- **np.sin(x):** Trigonometric sine, element-wise.\n",
    "- **np.cos(x):** Trigonometric cosine, element-wise.\n",
    "- **np.tan(x):** Trigonometric tangent, element-wise.\n",
    "\n",
    "Exponential and Logarithmic Functions\n",
    "\n",
    "- **np.exp(x):** Calculates the exponential of all elements in the input array.\n",
    "- **np.log(x):** Natural logarithm, element-wise.\n",
    "- **np.log10(x):** Base-10 logarithm of x.\n",
    "\n",
    "Others\n",
    "\n",
    "- **np.absolute(x):** Takes the absolute value element-wise\n",
    "- **np.sign(x):** Returns -1, 0, 1 based on the sign of elements\n",
    "\n",
    "\n",
    "Aggregation Functions\n",
    "\n",
    "- **np.sum(x):** Sum of array elements over a given axis.\n",
    "- **np.mean(x):** Compute the arithmetic mean along the specified axis.\n",
    "- **np.std(x):** Compute the standard deviation along the specified axis.\n",
    "- **np.min(x), np.max(x):** Minimum and maximum of an array or minimum along an axis.\n",
    "\n",
    "\n",
    "Comparison Functions\n",
    "\n",
    "- **np.greater(x, y), np.less(x, y):** Element-wise comparison of array elements.\n",
    "- **np.equal(x, y):** Checks whether each element of x is exactly equal to the corresponding element of y.\n",
    "\n",
    "\n",
    "Logical Operations\n",
    "\n",
    "- **np.logical_and(x, y):** Compute the truth value of x AND y element-wise.\n",
    "- **np.logical_or(x, y):** Compute the truth value of x OR y element-wise.\n",
    "- **np.logical_not(x):** Compute the truth value of NOT x element-wise."
   ]
  },
  {
   "cell_type": "code",
   "execution_count": 26,
   "metadata": {},
   "outputs": [
    {
     "name": "stdout",
     "output_type": "stream",
     "text": [
      "9\n",
      "5.0\n"
     ]
    }
   ],
   "source": [
    "A = np.array([[1,2,3], [4,5,6], [7,8,9]])\n",
    "\n",
    "# finding the maximum value in the entire array\n",
    "print(A.max())\n",
    "print(A.mean())"
   ]
  },
  {
   "cell_type": "markdown",
   "metadata": {},
   "source": [
    "Use `axis` parameter to perform operations on specific dimension  \n",
    "\n",
    "axis=0 refers to the outermost dimension, which is the first dimension of the array.   \n",
    "For a 2D array, this would be the rows, and for a 3D array, it would be the layers of 2D arrays stacked on top of each other."
   ]
  },
  {
   "cell_type": "code",
   "execution_count": 40,
   "metadata": {},
   "outputs": [
    {
     "name": "stdout",
     "output_type": "stream",
     "text": [
      "[7 8 9]\n",
      "[3 6 9]\n"
     ]
    }
   ],
   "source": [
    "# finding the maximum values in each 0 axis, i.e., outermost dimension (column)\n",
    "print(A.max(axis=0)) # [7 8 9]\n",
    "\n",
    "# finding the maximum values in each 1 axis, i.e., inner dimension (row)\n",
    "print(A.max(axis=1)) # [3 6 9]"
   ]
  },
  {
   "cell_type": "code",
   "execution_count": null,
   "metadata": {},
   "outputs": [],
   "source": [
    "B = np.random.randint(1, 10, 12).reshape(2,2,3)\n",
    "print(B, \"\\n\")\n",
    "\n",
    "# finding the maximum values in each 0 axis (in 3D, this is the 'depth' axis)\n",
    "print(\"max values in depth axis (2D arrays stacked on top of each other):\")\n",
    "print(B.max(axis=0))"
   ]
  },
  {
   "cell_type": "markdown",
   "metadata": {},
   "source": [
    "### Copy vs View"
   ]
  },
  {
   "cell_type": "markdown",
   "metadata": {},
   "source": [
    "`np2 = np1` in NumPy creates a reference to the same array object as np1, meaning any changes made to np2 will also reflect in np1 and vice versa.   \n",
    "\n",
    "`np2 = np1.view()` creates a new view object of np1, which shares the same data but allows for changes in shape or strides without altering the original data. Modifications to the data through np2 will affect np1, but changes to the shape of np2 will not affect np1.\n",
    "\n",
    "`np2 = np1.copy()` creates a deepcopy of np1"
   ]
  },
  {
   "cell_type": "markdown",
   "metadata": {},
   "source": [
    "### Reshaping"
   ]
  },
  {
   "cell_type": "code",
   "execution_count": 11,
   "metadata": {},
   "outputs": [
    {
     "name": "stdout",
     "output_type": "stream",
     "text": [
      "Original 1D array: \n",
      " [ 1  2  3  4  5  6  7  8  9 10 11 12] \n",
      "\n",
      "shape is (12,)\n"
     ]
    }
   ],
   "source": [
    "# 1D array\n",
    "np1 = np.arange(1, 13) # 1,2,3,4,5,6,7,8,9,10,11,12\n",
    "print(f\"Original 1D array: \\n {np1} \\n\")\n",
    "\n",
    "print(f\"shape is {np1.shape}\")"
   ]
  },
  {
   "cell_type": "code",
   "execution_count": null,
   "metadata": {},
   "outputs": [],
   "source": [
    "# reshaping to 2D array\n",
    "np2 = np1.reshape(3, 4)\n",
    "print(f\"Reshaped 2D array: \\n {np2} \\n\")\n",
    "\n",
    "# reshaping to 3D array\n",
    "np3 = np1.reshape(2, 2, 3)\n",
    "print(f\"Reshaped 3D array: \\n {np3}\")"
   ]
  },
  {
   "cell_type": "markdown",
   "metadata": {},
   "source": [
    "you can use `-1` to automatically reshape"
   ]
  },
  {
   "cell_type": "code",
   "execution_count": 17,
   "metadata": {},
   "outputs": [],
   "source": [
    "np2 = np1.reshape(3, -1)\n",
    "np3 = np1.reshape(-1, 3, 2)\n",
    "# -1 means that the value is inferred from the length of the array and the remaining dimensions\n",
    "\n",
    "np1 = np3.reshape(-1)\n",
    "# this flattens np3 into a 1D array"
   ]
  },
  {
   "cell_type": "markdown",
   "metadata": {},
   "source": [
    "### Iterating through ndarrays"
   ]
  },
  {
   "cell_type": "markdown",
   "metadata": {},
   "source": [
    "you can iterate manually through nested loops:"
   ]
  },
  {
   "cell_type": "code",
   "execution_count": null,
   "metadata": {},
   "outputs": [],
   "source": [
    "np1 = np.array([[1,2,3], [4,5,6], [7,8,9]])\n",
    "for row in np1:\n",
    "    print(row)\n",
    "    for element in row:\n",
    "        print(element)"
   ]
  },
  {
   "cell_type": "markdown",
   "metadata": {},
   "source": [
    "`np.nditer()` is more convenient to iterate through every element"
   ]
  },
  {
   "cell_type": "code",
   "execution_count": null,
   "metadata": {},
   "outputs": [],
   "source": [
    "for x in np.nditer(np1):\n",
    "    print(x)"
   ]
  },
  {
   "cell_type": "markdown",
   "metadata": {},
   "source": [
    "`np.ndenumerate` acts like enumerate(). It returns a tuple with index and element at that index"
   ]
  },
  {
   "cell_type": "code",
   "execution_count": null,
   "metadata": {},
   "outputs": [],
   "source": [
    "for (index, x) in np.ndenumerate(np1):\n",
    "    print(index, x)"
   ]
  }
 ],
 "metadata": {
  "kernelspec": {
   "display_name": "Python 3",
   "language": "python",
   "name": "python3"
  },
  "language_info": {
   "codemirror_mode": {
    "name": "ipython",
    "version": 3
   },
   "file_extension": ".py",
   "mimetype": "text/x-python",
   "name": "python",
   "nbconvert_exporter": "python",
   "pygments_lexer": "ipython3",
   "version": "3.12.0"
  }
 },
 "nbformat": 4,
 "nbformat_minor": 2
}
