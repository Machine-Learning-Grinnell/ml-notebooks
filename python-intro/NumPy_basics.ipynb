{
 "cells": [
  {
   "cell_type": "markdown",
   "metadata": {},
   "source": [
    "# NumPy Fundamentals"
   ]
  },
  {
   "cell_type": "markdown",
   "metadata": {},
   "source": [
    "## Intro To Numpy"
   ]
  },
  {
   "cell_type": "markdown",
   "metadata": {},
   "source": [
    "If you don't have NumPy installed, `pip install numpy`"
   ]
  },
  {
   "cell_type": "code",
   "execution_count": 1,
   "metadata": {},
   "outputs": [],
   "source": [
    "import numpy as np"
   ]
  },
  {
   "cell_type": "markdown",
   "metadata": {},
   "source": [
    "### Creating NumPy arrays"
   ]
  },
  {
   "cell_type": "code",
   "execution_count": 10,
   "metadata": {},
   "outputs": [],
   "source": [
    "# convert python list to numpy array\n",
    "np1 = np.array([1,2,3,4,5]) # 1,2,3,4,5\n",
    "\n",
    "# np.arange(start, stop, step)\n",
    "np2 = np.arange(5) # 0,1,2,3,4\n",
    "np3 = np.arange(5, 10) # 5,6,7,8,9\n",
    "np4 = np.arange(5, 10, 2) # 5,7,9\n",
    "\n",
    "# np.linspace(start, stop, num)\n",
    "np5 = np.linspace(0, 10, 5) # 0,2.5,5,7.5,10\n",
    "\n",
    "# np.zero and np.ones\n",
    "np6 = np.zeros(5) # 0,0,0,0,0\n",
    "np7 = np.ones(5) # 1,1,1,1,1\n",
    "\n",
    "# np.full(shape, value)\n",
    "np8 = np.full(5, 5) # 5,5,5,5,5\n",
    "np9 = np.full((2,2), 5) # [[5,5],[5,5]]\n",
    "\n",
    "# np.eye\n",
    "np10 = np.eye(5) # 5x5 identity matrix\n",
    "\n",
    "# np.random.rand\n",
    "np11 = np.random.rand(5) # 5 random numbers between 0 and 1\n",
    "\n",
    "# np.random.randint\n",
    "np12 = np.random.randint(1, 10, 5) # 5 random numbers between 1 and 10\n"
   ]
  },
  {
   "cell_type": "markdown",
   "metadata": {},
   "source": [
    "**seeing the shape**"
   ]
  },
  {
   "cell_type": "code",
   "execution_count": 16,
   "metadata": {},
   "outputs": [
    {
     "name": "stdout",
     "output_type": "stream",
     "text": [
      "shape: (2, 2)\n",
      "[[5 5]\n",
      " [5 5]]\n"
     ]
    }
   ],
   "source": [
    "print(f\"shape: {np9.shape}\") # prints the shape of the array\n",
    "print(np9)"
   ]
  },
  {
   "cell_type": "markdown",
   "metadata": {},
   "source": [
    "### Slicing and indexing"
   ]
  },
  {
   "cell_type": "markdown",
   "metadata": {},
   "source": [
    "**SLICING**"
   ]
  },
  {
   "cell_type": "code",
   "execution_count": null,
   "metadata": {},
   "outputs": [],
   "source": [
    "np1 = np.arange(1, 10) # 1,2,3,4,5,6,7,8,9\n",
    "\n",
    "print(np1[1:5]) # 2,3,4,5\n",
    "print(np1[:5]) # 1,2,3,4,5\n",
    "\n",
    "print(np1[::2]) # 1,3,5,7,9\n",
    "print(np1[::]) # 1,2,3,4,5,6,7,8,9\n",
    "print(np1[::-1]) # 9,8,7,6,5,4,3,2,1\n",
    "print(np1[1:-1:-1]) # empty array. If the step is negative, the start and stop should be reversed."
   ]
  },
  {
   "cell_type": "markdown",
   "metadata": {},
   "source": [
    "what if the array is not 1d?"
   ]
  },
  {
   "cell_type": "code",
   "execution_count": null,
   "metadata": {},
   "outputs": [],
   "source": [
    "np2 = np.array([[1,2,3], [4,5,6], [7,8,9]])\n",
    "print(np2[::-1])\n",
    "print(np2[::-1, ::-1])\n",
    "# we can observe that slicing needs to be specified for each dimension\n",
    "# the first position is the 'outermost' dimension, and the last position is the 'innermost' dimension"
   ]
  },
  {
   "cell_type": "markdown",
   "metadata": {},
   "source": [
    "**[EXTRA]** There are more advanced slicing/indexing techniques such as:  \n",
    "- Integer array indexing  \n",
    "- Fancy indexing  \n",
    "- Ellipsis and np.newaxis  \n"
   ]
  },
  {
   "cell_type": "markdown",
   "metadata": {},
   "source": [
    "**INDEXING**"
   ]
  },
  {
   "cell_type": "markdown",
   "metadata": {},
   "source": [
    "generally, accessing in single-step `arr[x,y]` is more efficient than doing `arr[x][y]`"
   ]
  },
  {
   "cell_type": "code",
   "execution_count": null,
   "metadata": {},
   "outputs": [],
   "source": [
    "np3 = np.array([[1,2,3], [4,5,6], [7,8,9]])\n",
    "\n",
    "\n",
    "print(np3[1,2])\n",
    "# This is a single-step operation where NumPy directly accesses the specified element using multidimensional indexing\n",
    "\n",
    "print(np3[1][2]) # 6\n",
    "# This is a two-step operation where NumPy first accesses the first dimension and then the second dimension"
   ]
  },
  {
   "cell_type": "markdown",
   "metadata": {},
   "source": [
    "**[EXTRA] boolean indexing**"
   ]
  },
  {
   "cell_type": "code",
   "execution_count": 32,
   "metadata": {},
   "outputs": [
    {
     "name": "stdout",
     "output_type": "stream",
     "text": [
      "[False False  True  True  True]\n",
      "[3 4 5]\n",
      "[3 4 5]\n"
     ]
    }
   ],
   "source": [
    "\n",
    "a = np.array([1, 2, 3, 4, 5])\n",
    "# Create a boolean array where True represents values greater than 2\n",
    "bool_idx = a > 2\n",
    "\n",
    "print(bool_idx)\n",
    "# Output: [False False  True  True  True]\n",
    "\n",
    "# Use this boolean array to index the original array\n",
    "print(a[bool_idx])\n",
    "# Output: [3 4 5]\n",
    "\n",
    "# Or directly\n",
    "print(a[a > 2])\n",
    "# Output: [3 4 5]"
   ]
  },
  {
   "cell_type": "markdown",
   "metadata": {},
   "source": [
    "### NumPy Universal Functions"
   ]
  },
  {
   "cell_type": "code",
   "execution_count": null,
   "metadata": {},
   "outputs": [],
   "source": []
  }
 ],
 "metadata": {
  "kernelspec": {
   "display_name": "Python 3",
   "language": "python",
   "name": "python3"
  },
  "language_info": {
   "codemirror_mode": {
    "name": "ipython",
    "version": 3
   },
   "file_extension": ".py",
   "mimetype": "text/x-python",
   "name": "python",
   "nbconvert_exporter": "python",
   "pygments_lexer": "ipython3",
   "version": "3.12.0"
  }
 },
 "nbformat": 4,
 "nbformat_minor": 2
}
