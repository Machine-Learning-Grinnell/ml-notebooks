{
 "cells": [
  {
   "cell_type": "markdown",
   "metadata": {},
   "source": [
    "# Python and IPython tutorial"
   ]
  },
  {
   "cell_type": "markdown",
   "metadata": {},
   "source": [
    "**Attribution**: This material is adapted from NYU's *Intro to Machine Learning* course repository taught by Professor Pei Liu."
   ]
  },
  {
   "cell_type": "markdown",
   "metadata": {},
   "source": [
    "## Introduction to Python"
   ]
  },
  {
   "cell_type": "markdown",
   "metadata": {},
   "source": [
    "Python is a general-purpose programming language with relatively simple syntax. With the help of popular libraries (e.g. `numpy`, `matplotlib`, `scikit-learn` and `pytorch`), it becomes a very powerful language and current the de-facto language for ML development.\n",
    "\n",
    "In this tutorial, we will cover the enough Python for applied ML:\n",
    "- Basic Python: Basic data types (Containers, List, Dictionaries, Sets, Tuple, Maps)\n",
    "- Numpy (for linear algebra): Arrays, array indexing, array math, broadcasting\n",
    "\n",
    "\n",
    "Note: In future tutorials and sessions, we will be implementing ML methods from scratch, which will require deeper understanding of Python and its object-oriented programming aspects."
   ]
  },
  {
   "cell_type": "markdown",
   "metadata": {},
   "source": [
    "## Introduction to IPython"
   ]
  },
  {
   "cell_type": "markdown",
   "metadata": {},
   "source": [
    "### Cell\n",
    "\n",
    "A notebook is a list of cells. Cells contain either explanatory text or executable code and its output. Click a cell to select it.\n",
    "\n",
    "#### Code cells\n",
    "\n",
    "Below is a **code cell**. Once the toolbar button indicates CONNECTED, click in the cell to select it and execute the contents in the following ways:\n",
    "\n",
    "- Click the **Play icon** in the left gutter of the cell;\n",
    "- Type **Cmd/Ctrl+Enter** to run the cell in place;\n",
    "- Type **Shift+Enter** to run the cell and move focus to the next cell (adding one if none exists); or\n",
    "- Type **Alt+Enter** to run the cell and insert a new code cell immediately below it."
   ]
  },
  {
   "cell_type": "code",
   "execution_count": 2,
   "metadata": {},
   "outputs": [
    {
     "data": {
      "text/plain": [
       "10"
      ]
     },
     "execution_count": 2,
     "metadata": {},
     "output_type": "execute_result"
    }
   ],
   "source": [
    "a = 10\n",
    "a"
   ]
  }
 ],
 "metadata": {
  "kernelspec": {
   "display_name": "Python 3",
   "language": "python",
   "name": "python3"
  },
  "language_info": {
   "codemirror_mode": {
    "name": "ipython",
    "version": 3
   },
   "file_extension": ".py",
   "mimetype": "text/x-python",
   "name": "python",
   "nbconvert_exporter": "python",
   "pygments_lexer": "ipython3",
   "version": "3.10.12"
  }
 },
 "nbformat": 4,
 "nbformat_minor": 2
}
